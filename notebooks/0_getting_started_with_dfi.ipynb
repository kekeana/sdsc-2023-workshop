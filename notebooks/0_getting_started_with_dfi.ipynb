{
 "cells": [
  {
   "cell_type": "markdown",
   "metadata": {},
   "source": [
    "# Intro to Data Flow Index Python API\n",
    "\n",
    "**Note: DFI Queries Will Not Work**\n",
    "\n",
    "**The Data Flow Index server used for this workshop is no longer running.  The workshop materials are left up _as is_ but queries will not run.  If you would like to trial the Data Flow Index please reach out to General System at [https://www.generalsystem.com/contact-us](https://www.generalsystem.com/contact-us).**\n"
   ]
  },
  {
   "cell_type": "code",
   "execution_count": null,
   "metadata": {},
   "outputs": [],
   "source": [
    "import json\n",
    "import shutil\n",
    "from datetime import datetime\n",
    "from getpass import getpass\n",
    "from pathlib import Path\n",
    "\n",
    "import geopandas as gpd\n",
    "import pandas as pd\n",
    "import pydeck as pdk\n",
    "import urllib3\n",
    "from dfi import Client\n",
    "from shapely.geometry import Point"
   ]
  },
  {
   "cell_type": "markdown",
   "metadata": {},
   "source": [
    "## I. Workshop Location"
   ]
  },
  {
   "cell_type": "markdown",
   "metadata": {},
   "source": [
    "### A. Load the OSM dataset"
   ]
  },
  {
   "cell_type": "code",
   "execution_count": null,
   "metadata": {},
   "outputs": [],
   "source": [
    "def load_location_data(filename: str, url: str) -> gpd.GeoDataFrame:\n",
    "    \"\"\"this function will save the file at the url filename\n",
    "    e.g. url = \"https://d3ftlhu7xfb8rb.cloudfront.net/blank_street_coffees.geoparquet\"\n",
    "    \"\"\"\n",
    "    Path(filename).parent.mkdir(parents=True, exist_ok=True)\n",
    "    http = urllib3.PoolManager()\n",
    "    with open(filename, \"wb\") as out:\n",
    "        r = http.request(\"GET\", url, preload_content=False)\n",
    "        shutil.copyfileobj(r, out)\n",
    "\n",
    "    return gpd.read_parquet(filename)"
   ]
  },
  {
   "cell_type": "code",
   "execution_count": null,
   "metadata": {},
   "outputs": [],
   "source": [
    "gdf = load_location_data(\"./temp-data\", \"https://d3ftlhu7xfb8rb.cloudfront.net/london_nyc_osm.geoparquet\")"
   ]
  },
  {
   "cell_type": "markdown",
   "metadata": {},
   "source": [
    "### B. Find the conference building in the OSM dataset"
   ]
  },
  {
   "cell_type": "code",
   "execution_count": null,
   "metadata": {},
   "outputs": [],
   "source": [
    "coord = Point(-73.963945, 40.806802)  # Main conference building\n",
    "building = gdf[gdf.intersects(coord)]\n",
    "vertices = list(building.geometry.iloc[0].exterior.coords)"
   ]
  },
  {
   "cell_type": "markdown",
   "metadata": {},
   "source": [
    "### C. Map the building polygon"
   ]
  },
  {
   "cell_type": "code",
   "execution_count": null,
   "metadata": {},
   "outputs": [],
   "source": [
    "ORANGE = [255, 80, 8]\n",
    "\n",
    "layer = pdk.Layer(\n",
    "    \"GeoJsonLayer\",\n",
    "    building,\n",
    "    opacity=0.5,\n",
    "    stroked=True,\n",
    "    filled=True,\n",
    "    get_fill_color=ORANGE,\n",
    "    get_line_color=ORANGE,\n",
    ")\n",
    "\n",
    "building_centroid = list(zip(building.centroid.x, building.centroid.y))\n",
    "view = pdk.data_utils.compute_view(building_centroid)\n",
    "view.zoom = 15\n",
    "\n",
    "pdk.Deck(\n",
    "    layers=[layer],\n",
    "    initial_view_state=view,\n",
    ")"
   ]
  },
  {
   "cell_type": "markdown",
   "metadata": {},
   "source": [
    "## II. Querying with Data Flow Index\n",
    "\n",
    "See [dfipy documentation](https://dfipy.docs.generalsystem.com/).\n",
    "\n",
    "There are three main entry points for querying the DFI:\n",
    "\n",
    "- `dfi.get.records()` - queries for records within the filter bounds\n",
    "- `dfi.get.entities()` - queries for the unique entities within the filter bounds\n",
    "- `dfi.get.records_count()` - queries for the count of records within the filter bounds\n",
    "\n",
    "All three methods have the filter bounds `polygon` and `time_interval`. The `dfi.get.records()` and `dfi.get.records_count()` have an additional filter bound, `entities`.\n",
    "\n",
    "|          | BBox | Polygon | Entities | Time Interval |\n",
    "|----------|------|---------|----------|---------------|\n",
    "| Count    | ✔︎    | ✔︎       | ✔︎        | ✔︎             |\n",
    "| Entities | ✔︎    | ✔︎       | X        | ✔︎             |\n",
    "| Records  | ✔︎    | ✔︎       | ✔︎        | ✔︎             |"
   ]
  },
  {
   "cell_type": "markdown",
   "metadata": {},
   "source": [
    "### A. Initialization"
   ]
  },
  {
   "cell_type": "code",
   "execution_count": null,
   "metadata": {},
   "outputs": [],
   "source": [
    "token = getpass(\"Enter your API access token: \")\n",
    "instance = \"sdsc-2-2088\"  # sdsc-1-5148\n",
    "namespace = \"gs\"\n",
    "url = \"https://api.prod.generalsystem.com\"\n",
    "\n",
    "dfi = Client(token, instance, namespace, url, progress_bar=True)"
   ]
  },
  {
   "cell_type": "markdown",
   "metadata": {},
   "source": [
    "### B. Count of Records within a Polygon"
   ]
  },
  {
   "cell_type": "code",
   "execution_count": null,
   "metadata": {},
   "outputs": [],
   "source": [
    "dfi.get.records_count(polygon=vertices)"
   ]
  },
  {
   "cell_type": "markdown",
   "metadata": {},
   "source": [
    "### C. Unique IDs within a Polygon"
   ]
  },
  {
   "cell_type": "code",
   "execution_count": null,
   "metadata": {},
   "outputs": [],
   "source": [
    "entities = dfi.get.entities(polygon=vertices)\n",
    "len(entities)"
   ]
  },
  {
   "cell_type": "markdown",
   "metadata": {},
   "source": [
    "### D. Records within a Polygon & Time Range"
   ]
  },
  {
   "cell_type": "code",
   "execution_count": null,
   "metadata": {},
   "outputs": [],
   "source": [
    "start_time = datetime(2022, 8, 1, 0, 0, 0)\n",
    "end_time = datetime(2022, 9, 1, 1, 0, 0)\n",
    "df = dfi.get.records(polygon=vertices, time_interval=(start_time, end_time))\n",
    "\n",
    "df.info()"
   ]
  },
  {
   "cell_type": "markdown",
   "metadata": {},
   "source": [
    "### E. Records for an Entity"
   ]
  },
  {
   "cell_type": "code",
   "execution_count": null,
   "metadata": {},
   "outputs": [],
   "source": [
    "df = dfi.get.records(entities=[\"ba64395a-1268-4f90-9197-b9de3aebbc80\"], add_payload_as_json=True).assign(\n",
    "    payload=lambda df: df.payload.map(json.loads)\n",
    ")\n",
    "df = df.join(pd.DataFrame(df.pop(\"payload\").tolist()))\n",
    "\n",
    "df.head()"
   ]
  },
  {
   "cell_type": "code",
   "execution_count": null,
   "metadata": {},
   "outputs": [],
   "source": []
  }
 ],
 "metadata": {
  "kernelspec": {
   "display_name": "Python 3 (ipykernel)",
   "language": "python",
   "name": "python3"
  },
  "language_info": {
   "codemirror_mode": {
    "name": "ipython",
    "version": 3
   },
   "file_extension": ".py",
   "mimetype": "text/x-python",
   "name": "python",
   "nbconvert_exporter": "python",
   "pygments_lexer": "ipython3",
   "version": "3.11.4"
  }
 },
 "nbformat": 4,
 "nbformat_minor": 4
}
