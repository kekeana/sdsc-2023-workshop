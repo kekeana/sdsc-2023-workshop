{
 "cells": [
  {
   "cell_type": "markdown",
   "metadata": {},
   "source": [
    "# Spatiotemporal Analysis\n",
    "\n",
    "**Note: DFI Queries Will Not Work**\n",
    "\n",
    "**The Data Flow Index server used for this workshop is no longer running.  The workshop materials are left up _as is_ but queries will not run.  If you would like to trial the Data Flow Index please reach out to General System at [https://www.generalsystem.com/contact-us](https://www.generalsystem.com/contact-us).**"
   ]
  },
  {
   "cell_type": "code",
   "execution_count": null,
   "metadata": {},
   "outputs": [],
   "source": [
    "import functools\n",
    "import json\n",
    "from collections import Counter\n",
    "from datetime import datetime, timedelta\n",
    "from getpass import getpass\n",
    "from typing import List, Optional, Tuple\n",
    "\n",
    "import h3.api.numpy_int as h3\n",
    "import pandas as pd\n",
    "from dfi import Client\n",
    "from shapely.geometry import Polygon\n",
    "from tqdm.notebook import tqdm"
   ]
  },
  {
   "cell_type": "code",
   "execution_count": null,
   "metadata": {},
   "outputs": [],
   "source": [
    "token = getpass(\"Enter your API access token: \")\n",
    "instance = \"sdsc-2-2088\"  # sdsc-1-5148\n",
    "namespace = \"gs\"\n",
    "url = \"https://api.prod.generalsystem.com\"\n",
    "\n",
    "dfi = Client(token, instance, namespace, url, progress_bar=True)"
   ]
  },
  {
   "cell_type": "code",
   "execution_count": null,
   "metadata": {},
   "outputs": [],
   "source": [
    "def unpack_payload(df: pd.DataFrame) -> pd.DataFrame:\n",
    "    df = df[df[\"payload\"].apply(lambda x: isinstance(x, str))]  # filter out any problem payloads\n",
    "    df[\"route\"] = df[\"payload\"].apply(lambda x: json.loads(x)[\"route\"])\n",
    "    df[\"transportation_mode\"] = df[\"payload\"].apply(lambda x: json.loads(x)[\"transportation_mode\"])\n",
    "    df[\"start_location_id\"] = df[\"payload\"].apply(lambda x: json.loads(x)[\"start_location_id\"])\n",
    "    df[\"end_location_id\"] = df[\"payload\"].apply(lambda x: json.loads(x)[\"end_location_id\"])\n",
    "\n",
    "    return df"
   ]
  },
  {
   "cell_type": "code",
   "execution_count": null,
   "metadata": {},
   "outputs": [],
   "source": [
    "def hex_period_colocations(\n",
    "    uid: str, resolution: int, period: int, time_interval: Optional[Tuple[datetime, datetime]] = None\n",
    ") -> pd.DataFrame:\n",
    "    uid_df = dfi.get.records(entities=[uid], time_interval=time_interval, add_payload_as_json=True)\n",
    "\n",
    "    # no data cannot be collocated with no data\n",
    "    if len(uid_df) == 0:\n",
    "        return []\n",
    "\n",
    "    # filter for only dwelling pings to identify co-dwelling instances\n",
    "    uid_df = unpack_payload(uid_df)\n",
    "    uid_df = uid_df[uid_df.transportation_mode == \"dwelling\"]\n",
    "\n",
    "    # turn off internal progress bar to not pollute STDOUT\n",
    "    progress_bar = dfi.conn.progress_bar\n",
    "    dfi.conn.progress_bar = False\n",
    "\n",
    "    hex_period_df = (\n",
    "        uid_df.assign(\n",
    "            hex_id=lambda df: [h3.geo_to_h3(lat, lon, resolution) for lat, lon in zip(df.latitude, df.longitude)],\n",
    "            period_start=lambda df: df.timestamp.dt.round(f\"{period}min\"),\n",
    "        )\n",
    "        .drop_duplicates(subset=[\"hex_id\", \"period_start\"])\n",
    "        .assign(\n",
    "            period_end=lambda df: df.period_start + timedelta(minutes=period),\n",
    "            geometry=lambda df: df.hex_id.map(functools.partial(h3.h3_to_geo_boundary, geo_json=True)).map(Polygon),\n",
    "        )\n",
    "        .sort_values(by=\"period_start\", ascending=True)\n",
    "    )\n",
    "\n",
    "    # for each hex-period bin query for points and save to collocations dataframe\n",
    "    collocated_entities = Counter()\n",
    "    for _, row in tqdm(hex_period_df.iterrows(), total=len(hex_period_df), desc=\"Space-Time Bin\", disable=False):\n",
    "        vertices = list(row.geometry.exterior.coords)\n",
    "        entities = dfi.get.entities(polygon=vertices, time_interval=(row.period_start, row.period_end))\n",
    "\n",
    "        collocated_entities += Counter(entities)\n",
    "\n",
    "    dfi.conn.progress_bar = progress_bar  # reset progress bar to previous state\n",
    "    return collocated_entities"
   ]
  },
  {
   "cell_type": "code",
   "execution_count": null,
   "metadata": {},
   "outputs": [],
   "source": [
    "start_time = datetime(2022, 1, 1, 0, 0, 0)\n",
    "end_time = datetime(2022, 2, 1, 1, 0, 0)\n",
    "time_interval = (start_time, end_time)\n",
    "resolution = 8\n",
    "period = 15\n",
    "uid = \"65b753d2-b523-467f-9c39-bc0fd6e2393b\"\n",
    "\n",
    "colocated = hex_period_colocations(uid=uid, time_interval=time_interval, resolution=resolution, period=period)"
   ]
  },
  {
   "cell_type": "markdown",
   "metadata": {},
   "source": [
    "# Co-located at a BSC"
   ]
  },
  {
   "cell_type": "code",
   "execution_count": null,
   "metadata": {},
   "outputs": [],
   "source": [
    "def hex_period_colocations_at_bsc(\n",
    "    uid: str,\n",
    "    resolution: int,\n",
    "    period: int,\n",
    "    osm_ids: List[str],\n",
    "    time_interval: Optional[Tuple[datetime, datetime]] = None,\n",
    ") -> pd.DataFrame:\n",
    "    uid_df = dfi.get.records(entities=[uid], time_interval=time_interval, add_payload_as_json=True)\n",
    "\n",
    "    # no data cannot be collocated with no data\n",
    "    if len(uid_df) == 0:\n",
    "        return []\n",
    "\n",
    "    # filter for only dwelling pings to identify co-dwelling instances at bsc shops\n",
    "    uid_df = unpack_payload(uid_df)\n",
    "    uid_df = uid_df[(uid_df.transportation_mode == \"dwelling\") & (uid_df.start_location_id.isin(osm_ids))]\n",
    "\n",
    "    # turn off internal progress bar to not pollute STDOUT\n",
    "    progress_bar = dfi.conn.progress_bar\n",
    "    dfi.conn.progress_bar = False\n",
    "\n",
    "    hex_period_df = (\n",
    "        uid_df.assign(\n",
    "            hex_id=lambda df: [h3.geo_to_h3(lat, lon, resolution) for lat, lon in zip(df.latitude, df.longitude)],\n",
    "            period_start=lambda df: df.timestamp.dt.round(f\"{period}min\"),\n",
    "        )\n",
    "        .drop_duplicates(subset=[\"hex_id\", \"period_start\"])\n",
    "        .assign(\n",
    "            period_end=lambda df: df.period_start + timedelta(minutes=period),\n",
    "            geometry=lambda df: df.hex_id.map(functools.partial(h3.h3_to_geo_boundary, geo_json=True)).map(Polygon),\n",
    "        )\n",
    "        .sort_values(by=\"period_start\", ascending=True)\n",
    "    )\n",
    "\n",
    "    # for each hex-period bin query for points and save to collocations dataframe\n",
    "    collocated_entities = Counter()\n",
    "    for _, row in tqdm(hex_period_df.iterrows(), total=len(hex_period_df), desc=\"Space-Time Bin\", disable=False):\n",
    "        vertices = list(row.geometry.exterior.coords)\n",
    "        entities = dfi.get.entities(polygon=vertices, time_interval=(row.period_start, row.period_end))\n",
    "\n",
    "        collocated_entities += Counter(entities)\n",
    "\n",
    "    dfi.conn.progress_bar = progress_bar  # reset progress bar to previous state\n",
    "    return collocated_entities"
   ]
  },
  {
   "cell_type": "code",
   "execution_count": null,
   "metadata": {},
   "outputs": [],
   "source": [
    "# grab osm_ids for bsc shops\n",
    "bsc_ids = pd.read_parquet(\n",
    "    \"https://d3ftlhu7xfb8rb.cloudfront.net/blank_street_coffee_callsigns.geoparquet\", columns=[\"osm_id\"]\n",
    ").osm_id.values.tolist()"
   ]
  },
  {
   "cell_type": "code",
   "execution_count": null,
   "metadata": {},
   "outputs": [],
   "source": [
    "colocated_at_bsc = hex_period_colocations_at_bsc(\n",
    "    uid=uid, osm_ids=bsc_ids, resolution=resolution, period=period, time_interval=time_interval\n",
    ")"
   ]
  },
  {
   "cell_type": "markdown",
   "metadata": {},
   "source": [
    "## Devices that are Co-located at BSC Shops and Elsewhere\n"
   ]
  },
  {
   "cell_type": "code",
   "execution_count": null,
   "metadata": {},
   "outputs": [],
   "source": [
    "colocated & colocated_at_bsc"
   ]
  },
  {
   "cell_type": "code",
   "execution_count": null,
   "metadata": {},
   "outputs": [],
   "source": []
  }
 ],
 "metadata": {
  "kernelspec": {
   "display_name": "Python 3 (ipykernel)",
   "language": "python",
   "name": "python3"
  },
  "language_info": {
   "codemirror_mode": {
    "name": "ipython",
    "version": 3
   },
   "file_extension": ".py",
   "mimetype": "text/x-python",
   "name": "python",
   "nbconvert_exporter": "python",
   "pygments_lexer": "ipython3",
   "version": "3.11.5"
  }
 },
 "nbformat": 4,
 "nbformat_minor": 4
}
