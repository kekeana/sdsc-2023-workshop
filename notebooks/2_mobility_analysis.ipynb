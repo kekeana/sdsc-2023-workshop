{
 "cells": [
  {
   "cell_type": "markdown",
   "metadata": {},
   "source": [
    "# Mobility Analysis\n",
    "\n",
    "**Note: DFI Queries Will Not Work**\n",
    "\n",
    "**The Data Flow Index server used for this workshop is no longer running.  The workshop materials are left up _as is_ but queries will not run.  If you would like to trial the Data Flow Index please reach out to General System at [https://www.generalsystem.com/contact-us](https://www.generalsystem.com/contact-us).**"
   ]
  },
  {
   "cell_type": "code",
   "execution_count": null,
   "metadata": {},
   "outputs": [],
   "source": [
    "import json\n",
    "import shutil\n",
    "from pathlib import Path\n",
    "\n",
    "import altair as alt\n",
    "import geopandas as gpd\n",
    "import pandas as pd\n",
    "import urllib3\n",
    "\n",
    "alt.data_transformers.disable_max_rows()"
   ]
  },
  {
   "cell_type": "markdown",
   "metadata": {},
   "source": [
    "## 0. Utility Functions"
   ]
  },
  {
   "cell_type": "code",
   "execution_count": null,
   "metadata": {
    "jupyter": {
     "source_hidden": true
    },
    "tags": []
   },
   "outputs": [],
   "source": [
    "# Define the theme by returning the dictionary of configurations\n",
    "FONT = \"Space Grotesk\"\n",
    "\n",
    "\n",
    "def gs_theme():\n",
    "    return {\n",
    "        \"config\": {\n",
    "            \"range\": {\n",
    "                \"category\": [\n",
    "                    \"#FF5722\",\n",
    "                    \"#03A9F4\",\n",
    "                    \"#F44336\",\n",
    "                    \"#00BCD4\",\n",
    "                    \"#4CAF50\",\n",
    "                    \"#FFEB3B\",\n",
    "                    \"#9C27B0\",\n",
    "                    \"#E91E63\",\n",
    "                    \"#795548\",\n",
    "                    \"#9E9E9E\",\n",
    "                ],\n",
    "                \"heatmap\": {\"scheme\": [\"#FFFFFF00\", \"#FF5008FF\"]},\n",
    "                \"ordinal\": {\"scheme\": [\"#FFFFFF00\", \"#FF5008FF\"]},\n",
    "                \"ramp\": {\"scheme\": [\"#FFFFFF88\", \"#FF5008FF\"]},\n",
    "                \"diverging\": {\"scheme\": [\"#FFFFFF00\", \"#FF5008FF\"]},\n",
    "            },\n",
    "            \"axis\": {\n",
    "                \"labelFont\": FONT,\n",
    "                \"titleFont\": FONT,\n",
    "            },\n",
    "            \"legend\": {\n",
    "                \"labelFont\": FONT,\n",
    "                \"titleFont\": FONT,\n",
    "            },\n",
    "            \"title\": {\n",
    "                \"font\": FONT,\n",
    "                \"subtitleFont\": FONT,\n",
    "            },\n",
    "            \"mark\": {\n",
    "                \"font\": FONT,\n",
    "            },\n",
    "            \"header\": {\n",
    "                \"labelFont\": FONT,\n",
    "                \"titleFont\": FONT,\n",
    "            },\n",
    "        },\n",
    "    }\n",
    "\n",
    "\n",
    "# Register the custom theme under a chosen name\n",
    "alt.themes.register(\"gs_theme\", gs_theme)\n",
    "\n",
    "# Enable the newly registered theme\n",
    "alt.themes.enable(\"gs_theme\")\n",
    "\n",
    "\n",
    "def load_location_data(filename: str, url: str) -> gpd.GeoDataFrame:\n",
    "    \"\"\" \"Downloads the file at url and saves to a file called filename, returns gdf\n",
    "    e.g. url = \"https://d3ftlhu7xfb8rb.cloudfront.net/blank_street_coffees.geoparquet\"\n",
    "    \"\"\"\n",
    "    Path(filename).parent.mkdir(parents=True, exist_ok=True)\n",
    "    http = urllib3.PoolManager()\n",
    "    with open(filename, \"wb\") as out:\n",
    "        r = http.request(\"GET\", url, preload_content=False)\n",
    "        shutil.copyfileobj(r, out)\n",
    "\n",
    "    return gpd.read_parquet(filename)"
   ]
  },
  {
   "cell_type": "markdown",
   "metadata": {},
   "source": [
    "## I. Finding Blank Street Coffee Customers"
   ]
  },
  {
   "cell_type": "markdown",
   "metadata": {},
   "source": [
    "### A. Get the data\n",
    "\n",
    "We will be loading in data from a public S3 bucket using cloudfront. The customer dataset was collected using the dfi queries in the previous section. It is loaded here directly in the interest of expediency - we only have 1 hour for the workshop!"
   ]
  },
  {
   "cell_type": "code",
   "execution_count": null,
   "metadata": {},
   "outputs": [],
   "source": [
    "# Read customer dataset from cloudfront url\n",
    "records_df = pd.read_parquet(\"https://d3ftlhu7xfb8rb.cloudfront.net/mobility-analysis-input-merged.parquet\").rename(\n",
    "    columns={\"uuid\": \"customer_id\"}\n",
    ")"
   ]
  },
  {
   "cell_type": "markdown",
   "metadata": {},
   "source": [
    "Of course, for this mobility analysis, we will also need the relevant OSM building data."
   ]
  },
  {
   "cell_type": "code",
   "execution_count": null,
   "metadata": {},
   "outputs": [],
   "source": [
    "# Load in OSM building data\n",
    "osm_gdf = load_location_data(\"osm_gdf\", \"https://d3ftlhu7xfb8rb.cloudfront.net/london_nyc_osm.geoparquet\")\n",
    "osm_ids = osm_gdf[\"osm_id\"]\n",
    "\n",
    "# Load in Blank Street Coffee Location dataset\n",
    "bsc_gdf = load_location_data(\n",
    "    \"bsc_gdf\",\n",
    "    \"https://d3ftlhu7xfb8rb.cloudfront.net/blank_street_coffee_callsigns.geoparquet\",\n",
    ")\n",
    "bsc_osm_ids = bsc_gdf[\"osm_id\"]"
   ]
  },
  {
   "cell_type": "markdown",
   "metadata": {},
   "source": [
    "### B. Analysis by BSC Location"
   ]
  },
  {
   "cell_type": "code",
   "execution_count": null,
   "metadata": {},
   "outputs": [],
   "source": [
    "# Group records by dwell\n",
    "agg_df = (\n",
    "    records_df[records_df[\"transportation_mode\"] == \"dwelling\"]\n",
    "    .groupby(by=[\"customer_id\", \"route\"], as_index=False)\n",
    "    .agg(\n",
    "        start_time=(\"timestamp\", \"min\"),\n",
    "        end_time=(\"timestamp\", \"max\"),\n",
    "        location_id=(\"start_location_id\", \"first\"),\n",
    "    )\n",
    ")\n",
    "bsc_dwells_df = agg_df[agg_df[\"location_id\"].isin(bsc_osm_ids)]"
   ]
  },
  {
   "cell_type": "markdown",
   "metadata": {},
   "source": [
    "#### 1. Number of visits"
   ]
  },
  {
   "cell_type": "code",
   "execution_count": null,
   "metadata": {},
   "outputs": [],
   "source": [
    "location_popularity = (\n",
    "    bsc_dwells_df.groupby(\"location_id\")\n",
    "    .agg(dwell_count=(\"route\", \"count\"))\n",
    "    .reset_index()\n",
    "    .merge(\n",
    "        bsc_gdf[[\"osm_id\", \"callsign\"]],\n",
    "        left_on=\"location_id\",\n",
    "        right_on=\"osm_id\",\n",
    "        how=\"left\",\n",
    "    )\n",
    "    .drop(\"osm_id\", axis=1)\n",
    "    .sort_values(by=\"dwell_count\", ascending=False)\n",
    "    .reset_index(drop=True)\n",
    ")\n",
    "location_popularity.head()"
   ]
  },
  {
   "cell_type": "markdown",
   "metadata": {},
   "source": [
    "#### 2. Distribution of customers"
   ]
  },
  {
   "cell_type": "code",
   "execution_count": null,
   "metadata": {},
   "outputs": [],
   "source": [
    "location_customers = (\n",
    "    bsc_dwells_df.groupby(\"location_id\")[\"customer_id\"]\n",
    "    .nunique()\n",
    "    .reset_index()\n",
    "    .merge(\n",
    "        bsc_gdf[[\"osm_id\", \"callsign\"]],\n",
    "        left_on=\"location_id\",\n",
    "        right_on=\"osm_id\",\n",
    "        how=\"left\",\n",
    "    )\n",
    "    .drop(\"osm_id\", axis=1)\n",
    "    .rename(columns={\"customer_id\": \"customer_count\"})\n",
    "    .sort_values(by=\"customer_count\", ascending=False)\n",
    "    .reset_index(drop=True)\n",
    ")\n",
    "\n",
    "location_customers.head()"
   ]
  },
  {
   "cell_type": "code",
   "execution_count": null,
   "metadata": {},
   "outputs": [],
   "source": [
    "# Bar chart of number of customers per BSC location\n",
    "customers_per_location = (\n",
    "    alt.Chart(location_customers)\n",
    "    .mark_bar(cornerRadiusTopLeft=3, cornerRadiusTopRight=3)\n",
    "    .encode(\n",
    "        x=alt.X(\n",
    "            \"callsign:N\",\n",
    "            title=\"BSC Locations\",\n",
    "            sort=\"-y\",\n",
    "            axis=alt.Axis(labelAngle=-45),\n",
    "        ),\n",
    "        y=alt.Y(\"customer_count:Q\", title=\"Number of Customers\", axis=alt.Axis(format=\"d\")),\n",
    "        color=alt.value(\"#03A9F4\"),\n",
    "    )\n",
    "    .properties(width=800, height=300, title=\"BSC Location Popularity\")\n",
    ")\n",
    "\n",
    "customers_per_location"
   ]
  },
  {
   "cell_type": "markdown",
   "metadata": {},
   "source": [
    "#### 3. Heatmap of visits by time period"
   ]
  },
  {
   "cell_type": "code",
   "execution_count": null,
   "metadata": {},
   "outputs": [],
   "source": [
    "days_of_week = [\n",
    "    \"Monday\",\n",
    "    \"Tuesday\",\n",
    "    \"Wednesday\",\n",
    "    \"Thursday\",\n",
    "    \"Friday\",\n",
    "    \"Saturday\",\n",
    "    \"Sunday\",\n",
    "]\n",
    "\n",
    "bsc_dwells_df = bsc_dwells_df.assign(\n",
    "    day_of_week=lambda df: df.start_time.dt.day_name(),\n",
    "    hour_of_day=lambda df: df.start_time.dt.hour,\n",
    ")\n",
    "\n",
    "all_combinations = pd.MultiIndex.from_product([days_of_week, range(24)], names=[\"day_of_week\", \"hour_of_day\"])\n",
    "heatmap_df = (\n",
    "    bsc_dwells_df.groupby([\"day_of_week\", \"hour_of_day\"])\n",
    "    .size()\n",
    "    .reset_index(name=\"count\")\n",
    "    .set_index([\"day_of_week\", \"hour_of_day\"])\n",
    "    .reindex(all_combinations)\n",
    "    .reset_index()\n",
    "    .fillna(value={\"count\": 0})\n",
    ")\n",
    "heatmap_df"
   ]
  },
  {
   "cell_type": "code",
   "execution_count": null,
   "metadata": {},
   "outputs": [],
   "source": [
    "heatmap = (\n",
    "    alt.Chart(heatmap_df)\n",
    "    .mark_rect(cornerRadius=5)\n",
    "    .encode(\n",
    "        alt.X(\"hour_of_day:O\").title(\"Hour of Day\"),\n",
    "        alt.Y(\"day_of_week:O\", sort=days_of_week).title(\"Day of Week\"),\n",
    "        alt.Color(\"count:Q\").title(\"Number of Dwells\"),\n",
    "    )\n",
    "    .properties(title=\"Blank Street Coffee shops are busiest between 7-9am\")\n",
    ")\n",
    "\n",
    "heatmap"
   ]
  },
  {
   "cell_type": "markdown",
   "metadata": {},
   "source": [
    "## II. Cross Visitation"
   ]
  },
  {
   "cell_type": "markdown",
   "metadata": {},
   "source": [
    "### A. Where has one particular customer dwelled?"
   ]
  },
  {
   "cell_type": "code",
   "execution_count": null,
   "metadata": {},
   "outputs": [],
   "source": [
    "# Choose a customer\n",
    "customer = \"65b753d2-b523-467f-9c39-bc0fd6e2393b\"\n",
    "\n",
    "customer_dwells_df = agg_df[agg_df[\"customer_id\"] == customer].reset_index(drop=True)"
   ]
  },
  {
   "cell_type": "markdown",
   "metadata": {},
   "source": [
    "Since the osm building data is messy and not every building has a name or category, let's make a label column to clear things up as much as possible"
   ]
  },
  {
   "cell_type": "code",
   "execution_count": null,
   "metadata": {},
   "outputs": [],
   "source": [
    "def create_label_column(df: pd.DataFrame, id_column: str = \"location_id\"):\n",
    "    \"\"\"\n",
    "    Determine the label for each row based on the amount of metadata present\n",
    "    \"\"\"\n",
    "\n",
    "    def label(row):\n",
    "        if row[id_column] in bsc_gdf[\"osm_id\"].values:\n",
    "            callsign = bsc_gdf.loc[bsc_gdf[\"osm_id\"] == row[id_column], \"callsign\"].values[0]\n",
    "            return f\"BSC - {callsign}\"\n",
    "        elif pd.notna(row[\"name\"]) and pd.notna(row[\"category\"]):\n",
    "            return f'{row[\"name\"]} - {row[\"category\"]} - id_{row[id_column]}'\n",
    "        elif pd.notna(row[\"name\"]):\n",
    "            return f'{row[\"name\"]} - id_{row[id_column]}'\n",
    "        elif pd.notna(row[\"category\"]):\n",
    "            return f'{row[\"category\"]} - id_{row[id_column]}'\n",
    "        else:\n",
    "            return f\"id_{row[id_column]}\"\n",
    "\n",
    "    # Apply the label function to each row\n",
    "    df[\"label\"] = df.apply(label, axis=1)\n",
    "\n",
    "    return df\n",
    "\n",
    "\n",
    "def merge_osm_data(dwells_df: pd.DataFrame, osm_gdf: gpd.GeoDataFrame):\n",
    "    \"\"\"Merge OSM building data onto dwells dataframe and create labels\"\"\"\n",
    "    dwells_df = (\n",
    "        pd.merge(\n",
    "            dwells_df,\n",
    "            osm_gdf[[\"osm_id\", \"name\", \"category\"]],\n",
    "            left_on=\"location_id\",\n",
    "            right_on=\"osm_id\",\n",
    "            how=\"left\",\n",
    "        )\n",
    "        .drop(columns=[\"osm_id\"])\n",
    "        .pipe(create_label_column)\n",
    "    )\n",
    "    return dwells_df"
   ]
  },
  {
   "cell_type": "code",
   "execution_count": null,
   "metadata": {},
   "outputs": [],
   "source": [
    "cd_df = merge_osm_data(customer_dwells_df, osm_gdf)\n",
    "location_dwell_count = pd.DataFrame(cd_df[\"label\"].value_counts().reset_index())\n",
    "location_dwell_count = location_dwell_count.loc[~location_dwell_count[\"label\"].str.startswith(\"id_\")]"
   ]
  },
  {
   "cell_type": "code",
   "execution_count": null,
   "metadata": {},
   "outputs": [],
   "source": [
    "# Bar chart of number of dwells per building for the customer\n",
    "dwells_per_location = (\n",
    "    alt.Chart(location_dwell_count)\n",
    "    .mark_bar(cornerRadiusTopLeft=3, cornerRadiusTopRight=3)\n",
    "    .encode(\n",
    "        x=alt.X(\"label:N\", title=\"Buildings\", sort=\"-y\", axis=alt.Axis(labelAngle=-45)),\n",
    "        y=alt.Y(\"count:Q\", title=\"Number of Dwells\", axis=alt.Axis(format=\"d\")),\n",
    "        color=alt.value(\"#03A9F4\"),\n",
    "    )\n",
    "    .configure_axis(labelLimit=100)\n",
    "    .properties(title=\"This customer visited 'BSC - Kopi Tubruk' 4 times\")\n",
    ")\n",
    "\n",
    "dwells_per_location"
   ]
  },
  {
   "cell_type": "markdown",
   "metadata": {},
   "source": [
    "### B. Finding aggregated dwell information from the customers"
   ]
  },
  {
   "cell_type": "markdown",
   "metadata": {},
   "source": [
    "Of all the people that visit a (the most popular for this case) BSC location, where else do they go"
   ]
  },
  {
   "cell_type": "code",
   "execution_count": null,
   "metadata": {},
   "outputs": [],
   "source": [
    "agg_cd_df = merge_osm_data(agg_df, osm_gdf)"
   ]
  },
  {
   "cell_type": "code",
   "execution_count": null,
   "metadata": {},
   "outputs": [],
   "source": [
    "label_counts = agg_cd_df[\"label\"].value_counts().reset_index()\n",
    "label_counts.columns = [\"label\", \"frequency\"]\n",
    "\n",
    "agg_cd_df[\"dwell_time\"] = ((agg_cd_df[\"end_time\"] - agg_cd_df[\"start_time\"]).dt.total_seconds() / 3600).astype(float)\n",
    "dwell_times = agg_cd_df.groupby(\"label\").agg(total_time=(\"dwell_time\", \"sum\"))\n",
    "\n",
    "labels_and_times = label_counts.merge(dwell_times, on=\"label\")\n",
    "labels_and_times"
   ]
  },
  {
   "cell_type": "code",
   "execution_count": null,
   "metadata": {},
   "outputs": [],
   "source": [
    "cross_visitation = (\n",
    "    alt.Chart(labels_and_times.head(20))\n",
    "    .mark_bar(cornerRadiusTopLeft=3, cornerRadiusTopRight=3)\n",
    "    .encode(\n",
    "        x=alt.X(\"label:O\", title=\"Buildings\", sort=\"-y\", axis=alt.Axis(labelAngle=-45)),\n",
    "        y=alt.Y(\"frequency:Q\", title=\"Number of Dwells\"),\n",
    "        color=alt.value(\"#03A9F4\"),\n",
    "        tooltip=\"total_time\",\n",
    "    )\n",
    "    .properties(title=\"20 Most Popular Buildings\")\n",
    "    .configure_legend(disable=True)\n",
    ")\n",
    "cross_visitation.save(\"../presentation/src/assets/figures/cross_visitation.html\")\n",
    "cross_visitation"
   ]
  },
  {
   "cell_type": "markdown",
   "metadata": {},
   "source": [
    "## III. Hotspots in Time"
   ]
  },
  {
   "cell_type": "code",
   "execution_count": null,
   "metadata": {},
   "outputs": [],
   "source": [
    "agg_cd_df[\"day_of_week\"] = agg_cd_df[\"start_time\"].dt.day_name()\n",
    "agg_cd_df[\"hour_of_day\"] = agg_cd_df[\"start_time\"].dt.hour\n",
    "\n",
    "time_period_breakdown = (\n",
    "    agg_cd_df.assign(day_of_week=pd.Categorical(agg_cd_df[\"day_of_week\"], categories=days_of_week, ordered=True))\n",
    "    .groupby([\"day_of_week\", \"hour_of_day\"])[\"label\"]\n",
    "    .agg(\n",
    "        lambda x: pd.Series(\n",
    "            {\n",
    "                \"mode_value\": x.mode().iloc[0],\n",
    "                \"mode_count\": (x == x.mode().iloc[0]).sum(),\n",
    "            }\n",
    "        )\n",
    "    )\n",
    "    .reset_index()\n",
    ")\n",
    "\n",
    "time_period_breakdown[[\"mode_value\", \"mode_count\"]] = time_period_breakdown[\"label\"].apply(pd.Series)\n",
    "time_period_breakdown.drop(columns=[\"label\"], inplace=True)\n",
    "\n",
    "time_period_breakdown = (\n",
    "    time_period_breakdown.set_index([\"day_of_week\", \"hour_of_day\"]).reindex(all_combinations).reset_index()\n",
    ")\n",
    "\n",
    "time_period_breakdown[\"mode_count\"] = time_period_breakdown[\"mode_count\"].fillna(0).astype(int)\n",
    "\n",
    "time_period_breakdown"
   ]
  },
  {
   "cell_type": "code",
   "execution_count": null,
   "metadata": {},
   "outputs": [],
   "source": [
    "time_period_heatmap = (\n",
    "    alt.Chart(time_period_breakdown)\n",
    "    .mark_rect(cornerRadius=5)\n",
    "    .encode(\n",
    "        alt.X(\"hour_of_day:O\").title(\"Hour of Day\"),\n",
    "        alt.Y(\"day_of_week:O\", sort=days_of_week).title(\"Day of Week\"),\n",
    "        alt.Color(\"mode_count:Q\").title(\"Number of Dwells\"),\n",
    "        tooltip=\"mode_value\",\n",
    "    )\n",
    "    .properties(title=\"At 12pm on a Wednesday, customers' most popular location is VERG Brooklyn\")\n",
    ")\n",
    "\n",
    "time_period_heatmap.save(\"../presentation/src/assets/figures/time_period_heatmap.html\")\n",
    "time_period_heatmap"
   ]
  },
  {
   "cell_type": "markdown",
   "metadata": {},
   "source": [
    "## IV. Customer Journey"
   ]
  },
  {
   "cell_type": "code",
   "execution_count": null,
   "metadata": {},
   "outputs": [],
   "source": [
    "results = []\n",
    "final_dwell = customer_dwells_df.index.max()\n",
    "\n",
    "# Filter dwells for BSC location dwells\n",
    "bsc_dwells_df = customer_dwells_df[customer_dwells_df[\"location_id\"].isin(bsc_osm_ids)]\n",
    "\n",
    "# For each of the bsc locations the customer visited...\n",
    "for bsc_location in bsc_dwells_df[\"location_id\"]:\n",
    "    # ...find which dwells are at each location and...\n",
    "    bsc_dwell_indexes = customer_dwells_df[customer_dwells_df[\"location_id\"] == bsc_location].index.unique()\n",
    "\n",
    "    # ...loop through dwells to find the osm ids of the previous and next dwells\n",
    "    for index in bsc_dwell_indexes:\n",
    "        row = {\"bsc_location\": bsc_location}\n",
    "        if index != final_dwell:\n",
    "            row[\"next_location\"] = customer_dwells_df[customer_dwells_df.index == index + 1][\"location_id\"].unique()[0]\n",
    "        else:\n",
    "            row[\"next_location\"] = None\n",
    "\n",
    "        if index != 0:\n",
    "            row[\"previous_location\"] = customer_dwells_df[customer_dwells_df.index == index - 1][\n",
    "                \"location_id\"\n",
    "            ].unique()[0]\n",
    "        else:\n",
    "            row[\"previous_location\"] = None\n",
    "        results.append(row)\n",
    "\n",
    "results_df = pd.DataFrame.from_records(results)"
   ]
  },
  {
   "cell_type": "code",
   "execution_count": null,
   "metadata": {},
   "outputs": [],
   "source": [
    "# This commented out code can be used to create labels for the entire osm dataset\n",
    "# osm_labels = create_label_column(osm_gdf, id_column=\"osm_id\")\n",
    "# osm_labels_map = {row[\"osm_id\"]: row[\"label\"] for _, row in osm_labels.iterrows()}\n",
    "\n",
    "# with open(\"../presentation/src/assets/osm_map.json\",\"w\") as file:\n",
    "#     json.dump(osm_labels_map, file)\n",
    "\n",
    "# Attach labels to results using a map\n",
    "with open(\"../presentation/src/assets/osm_map.json\", \"r\") as file:\n",
    "    osm_labels_map = json.load(file)\n",
    "\n",
    "for i in results_df.columns:\n",
    "    results_df[i] = results_df[i].apply(lambda x: osm_labels_map[x])"
   ]
  },
  {
   "cell_type": "code",
   "execution_count": null,
   "metadata": {},
   "outputs": [],
   "source": [
    "results_df.head()"
   ]
  },
  {
   "cell_type": "code",
   "execution_count": null,
   "metadata": {},
   "outputs": [],
   "source": [
    "results_df.groupby(\"bsc_location\")[[\"previous_location\", \"next_location\"]].value_counts().reset_index()[\n",
    "    [\"previous_location\", \"bsc_location\", \"next_location\", \"count\"]\n",
    "]"
   ]
  }
 ],
 "metadata": {
  "kernelspec": {
   "display_name": "Python 3 (ipykernel)",
   "language": "python",
   "name": "python3"
  },
  "language_info": {
   "codemirror_mode": {
    "name": "ipython",
    "version": 3
   },
   "file_extension": ".py",
   "mimetype": "text/x-python",
   "name": "python",
   "nbconvert_exporter": "python",
   "pygments_lexer": "ipython3",
   "version": "3.11.5"
  }
 },
 "nbformat": 4,
 "nbformat_minor": 4
}
